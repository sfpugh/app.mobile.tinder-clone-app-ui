{
 "metadata": {
  "language_info": {
   "codemirror_mode": {
    "name": "ipython",
    "version": 3
   },
   "file_extension": ".py",
   "mimetype": "text/x-python",
   "name": "python",
   "nbconvert_exporter": "python",
   "pygments_lexer": "ipython3",
   "version": "3.8.2"
  },
  "orig_nbformat": 2,
  "kernelspec": {
   "name": "python382jvsc74a57bd0aa2c9f01c7cc4093d7bf550e11260397cdcdaa73fb34e27f2a95fe5dfc3d127a",
   "display_name": "Python 3.8.2 64-bit ('bgi_env')"
  },
  "metadata": {
   "interpreter": {
    "hash": "aa2c9f01c7cc4093d7bf550e11260397cdcdaa73fb34e27f2a95fe5dfc3d127a"
   }
  }
 },
 "nbformat": 4,
 "nbformat_minor": 2,
 "cells": [
  {
   "source": [
    "#  Attacks on Barrier Grid Illusion for Screenshot Prevention"
   ],
   "cell_type": "markdown",
   "metadata": {}
  },
  {
   "cell_type": "code",
   "execution_count": null,
   "metadata": {},
   "outputs": [],
   "source": [
    "import numpy as np\n",
    "import os\n",
    "import matplotlib.pyplot as plt\n",
    "from moviepy.editor import *"
   ]
  },
  {
   "source": [
    "## Combining the Frames of a Screenrecording\n",
    "\n",
    "Load the screenrecording."
   ],
   "cell_type": "markdown",
   "metadata": {}
  },
  {
   "cell_type": "code",
   "execution_count": null,
   "metadata": {},
   "outputs": [],
   "source": [
    "PATH_TO_RECORDING = \"\"\n",
    "\n",
    "clip = VideoFileClip(PATH_TO_RECORDING)\n",
    "clip.ipython_display(autoplay=1)"
   ]
  },
  {
   "source": [
    "Extract several frames from a one-second subclip. We can observe them with Matplotlib."
   ],
   "cell_type": "markdown",
   "metadata": {}
  },
  {
   "cell_type": "code",
   "execution_count": null,
   "metadata": {},
   "outputs": [],
   "source": [
    "N_FRAMES = 72\n",
    "\n",
    "clip = clip.subclip(0, 1)\n",
    "frames = np.array([clip.get_frame(i) for i in np.linspace(0, clip.duration, N_FRAMES)])\n",
    "\n",
    "fig, ax = plt.subplots(1,3)\n",
    "ax[0].set_title(\"Frame 0\")\n",
    "ax[0].imshow(frames[0])\n",
    "ax[0].axis('off')\n",
    "ax[1].set_title(\"Frame 35\")\n",
    "ax[1].imshow(frames[35])\n",
    "ax[1].axis('off')\n",
    "ax[2].set_title(\"Frame 71\")\n",
    "ax[2].imshow(frames[-1])\n",
    "ax[2].axis('off')\n",
    "fig.show()"
   ]
  },
  {
   "source": [
    "Take the average of all the frames to produce a decent view of the original image."
   ],
   "cell_type": "markdown",
   "metadata": {}
  },
  {
   "cell_type": "code",
   "execution_count": null,
   "metadata": {},
   "outputs": [],
   "source": [
    "avg_of_frames = np.average(frames, axis=0).astype(int)\n",
    "\n",
    "fig, ax = plt.subplots()\n",
    "ax.set_title(\"Average of Frames\")\n",
    "ax.imshow(avg_of_frames)\n",
    "ax.axis('off')\n",
    "fig.show()"
   ]
  },
  {
   "source": [
    "One can apply some smoothing tools or more sophisticated photo editors like Photoshop to further blur the lines from the illusion and produce a better image. All in all, it is very easy to \"defeat\" this method and could very well be a reason why the app Yovo which implements this is no longer available."
   ],
   "cell_type": "markdown",
   "metadata": {}
  },
  {
   "source": [
    "## Combining Multiple Screenshots\n",
    "This attack can be implemented exactly as above, just changing the input to be several screenshots instead of frames from a recording."
   ],
   "cell_type": "markdown",
   "metadata": {}
  },
  {
   "cell_type": "code",
   "execution_count": null,
   "metadata": {},
   "outputs": [],
   "source": [
    "SCREENSHOT_DIR = \"\"\n",
    "\n",
    "# Obtain all the screenshots in the directory\n",
    "screenshots = np.array([plt.imread(filename) for filename in os.listdir(SCREENSHOT_DIR)])\n",
    "\n",
    "# Average the screenshots\n",
    "avg_of_screenshots = np.average(screenshots, axis=0).astype(int)\n",
    "\n",
    "fig, ax = plt.subplots()\n",
    "ax.set_title(\"Average of Screenshots\")\n",
    "ax.imshow(avg_of_screenshots)\n",
    "ax.axis('off')\n",
    "fig.show()"
   ]
  }
 ]
}